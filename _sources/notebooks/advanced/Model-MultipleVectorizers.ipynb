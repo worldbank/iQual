{
 "cells": [
  {
   "attachments": {},
   "cell_type": "markdown",
   "id": "aec20cd0",
   "metadata": {},
   "source": [
    "# Model - Multiple Vectorizers"
   ]
  },
  {
   "cell_type": "markdown",
   "id": "f1a813d7",
   "metadata": {},
   "source": [
    "> ### Imports"
   ]
  },
  {
   "cell_type": "code",
   "execution_count": 1,
   "id": "8eb77ef5",
   "metadata": {},
   "outputs": [],
   "source": [
    "import os\n",
    "import pandas as pd\n",
    "from iqual import iqualnlp, evaluation, crossval, vectorizers"
   ]
  },
  {
   "cell_type": "markdown",
   "id": "17a42bc8",
   "metadata": {},
   "source": [
    "> ### Load `annotated (human-coded)` and `unannotated` datasets"
   ]
  },
  {
   "cell_type": "code",
   "execution_count": 2,
   "id": "a7d035ab",
   "metadata": {},
   "outputs": [],
   "source": [
    "data_dir         = \"../../data\"\n",
    "human_coded_df   = pd.read_csv(os.path.join(data_dir,\"annotated.csv\"))\n",
    "uncoded_df       = pd.read_csv(os.path.join(data_dir,\"unannotated.csv\"))"
   ]
  },
  {
   "cell_type": "markdown",
   "id": "db9ac6dd",
   "metadata": {},
   "source": [
    "> ### Load `spacy` or `sentence-transformers` using precomputed dictionaries"
   ]
  },
  {
   "cell_type": "code",
   "execution_count": 3,
   "id": "8eacd7b8",
   "metadata": {},
   "outputs": [],
   "source": [
    "dict_dir        = \"../dictionaries\""
   ]
  },
  {
   "cell_type": "code",
   "execution_count": 4,
   "id": "521e7e9c",
   "metadata": {},
   "outputs": [],
   "source": [
    "sentence_transformer_models = [\"all-mpnet-base-v2\", \"all-roberta-large-v1\",\"distiluse-base-multilingual-cased-v2\"]\n",
    "spacy_models                = [\"en_core_web_sm\",\"en_core_web_md\",\"en_core_web_lg\"]\n",
    "model_paths  = [os.path.join(dict_dir,m+'.pkl') for m in [*sentence_transformer_models,*spacy_models]]"
   ]
  },
  {
   "cell_type": "markdown",
   "id": "9b308f43",
   "metadata": {},
   "source": [
    "> ### Split the data into training and test sets"
   ]
  },
  {
   "cell_type": "code",
   "execution_count": 5,
   "id": "e0f95233",
   "metadata": {},
   "outputs": [
    {
     "name": "stdout",
     "output_type": "stream",
     "text": [
      "Train Size: 7470\n",
      "Test Size: 2490\n"
     ]
    }
   ],
   "source": [
    "from sklearn.model_selection import train_test_split\n",
    "train_df, test_df = train_test_split(human_coded_df,test_size=0.25)\n",
    "print(f\"Train Size: {len(train_df)}\\nTest Size: {len(test_df)}\")"
   ]
  },
  {
   "cell_type": "markdown",
   "id": "f0ea3ad2",
   "metadata": {},
   "source": [
    "> ### Configure training data"
   ]
  },
  {
   "cell_type": "code",
   "execution_count": 6,
   "id": "ebffbf2c",
   "metadata": {},
   "outputs": [],
   "source": [
    "### Select Question and Answer Columns\n",
    "question_col = 'Q_en'\n",
    "answer_col   = 'A_en'\n",
    "\n",
    "### Select a code\n",
    "code_variable = 'marriage'\n",
    "\n",
    "### Create X and y\n",
    "X = train_df[[question_col,answer_col]]\n",
    "y = train_df[code_variable]"
   ]
  },
  {
   "cell_type": "markdown",
   "id": "23910543",
   "metadata": {},
   "source": [
    "### Initiate model"
   ]
  },
  {
   "cell_type": "code",
   "execution_count": 7,
   "id": "ea7cd53b",
   "metadata": {},
   "outputs": [
    {
     "data": {
      "text/html": [
       "<style>#sk-container-id-1 {color: black;background-color: white;}#sk-container-id-1 pre{padding: 0;}#sk-container-id-1 div.sk-toggleable {background-color: white;}#sk-container-id-1 label.sk-toggleable__label {cursor: pointer;display: block;width: 100%;margin-bottom: 0;padding: 0.3em;box-sizing: border-box;text-align: center;}#sk-container-id-1 label.sk-toggleable__label-arrow:before {content: \"▸\";float: left;margin-right: 0.25em;color: #696969;}#sk-container-id-1 label.sk-toggleable__label-arrow:hover:before {color: black;}#sk-container-id-1 div.sk-estimator:hover label.sk-toggleable__label-arrow:before {color: black;}#sk-container-id-1 div.sk-toggleable__content {max-height: 0;max-width: 0;overflow: hidden;text-align: left;background-color: #f0f8ff;}#sk-container-id-1 div.sk-toggleable__content pre {margin: 0.2em;color: black;border-radius: 0.25em;background-color: #f0f8ff;}#sk-container-id-1 input.sk-toggleable__control:checked~div.sk-toggleable__content {max-height: 200px;max-width: 100%;overflow: auto;}#sk-container-id-1 input.sk-toggleable__control:checked~label.sk-toggleable__label-arrow:before {content: \"▾\";}#sk-container-id-1 div.sk-estimator input.sk-toggleable__control:checked~label.sk-toggleable__label {background-color: #d4ebff;}#sk-container-id-1 div.sk-label input.sk-toggleable__control:checked~label.sk-toggleable__label {background-color: #d4ebff;}#sk-container-id-1 input.sk-hidden--visually {border: 0;clip: rect(1px 1px 1px 1px);clip: rect(1px, 1px, 1px, 1px);height: 1px;margin: -1px;overflow: hidden;padding: 0;position: absolute;width: 1px;}#sk-container-id-1 div.sk-estimator {font-family: monospace;background-color: #f0f8ff;border: 1px dotted black;border-radius: 0.25em;box-sizing: border-box;margin-bottom: 0.5em;}#sk-container-id-1 div.sk-estimator:hover {background-color: #d4ebff;}#sk-container-id-1 div.sk-parallel-item::after {content: \"\";width: 100%;border-bottom: 1px solid gray;flex-grow: 1;}#sk-container-id-1 div.sk-label:hover label.sk-toggleable__label {background-color: #d4ebff;}#sk-container-id-1 div.sk-serial::before {content: \"\";position: absolute;border-left: 1px solid gray;box-sizing: border-box;top: 0;bottom: 0;left: 50%;z-index: 0;}#sk-container-id-1 div.sk-serial {display: flex;flex-direction: column;align-items: center;background-color: white;padding-right: 0.2em;padding-left: 0.2em;position: relative;}#sk-container-id-1 div.sk-item {position: relative;z-index: 1;}#sk-container-id-1 div.sk-parallel {display: flex;align-items: stretch;justify-content: center;background-color: white;position: relative;}#sk-container-id-1 div.sk-item::before, #sk-container-id-1 div.sk-parallel-item::before {content: \"\";position: absolute;border-left: 1px solid gray;box-sizing: border-box;top: 0;bottom: 0;left: 50%;z-index: -1;}#sk-container-id-1 div.sk-parallel-item {display: flex;flex-direction: column;z-index: 1;position: relative;background-color: white;}#sk-container-id-1 div.sk-parallel-item:first-child::after {align-self: flex-end;width: 50%;}#sk-container-id-1 div.sk-parallel-item:last-child::after {align-self: flex-start;width: 50%;}#sk-container-id-1 div.sk-parallel-item:only-child::after {width: 0;}#sk-container-id-1 div.sk-dashed-wrapped {border: 1px dashed gray;margin: 0 0.4em 0.5em 0.4em;box-sizing: border-box;padding-bottom: 0.4em;background-color: white;}#sk-container-id-1 div.sk-label label {font-family: monospace;font-weight: bold;display: inline-block;line-height: 1.2em;}#sk-container-id-1 div.sk-label-container {text-align: center;}#sk-container-id-1 div.sk-container {/* jupyter's `normalize.less` sets `[hidden] { display: none; }` but bootstrap.min.css set `[hidden] { display: none !important; }` so we also need the `!important` here to be able to override the default hidden behavior on the sphinx rendered scikit-learn.org. See: https://github.com/scikit-learn/scikit-learn/issues/21755 */display: inline-block !important;position: relative;}#sk-container-id-1 div.sk-text-repr-fallback {display: none;}</style><div id=\"sk-container-id-1\" class=\"sk-top-container\"><div class=\"sk-text-repr-fallback\"><pre>Pipeline(steps=[(&#x27;Input&#x27;,\n",
       "                 FeatureUnion(transformer_list=[(&#x27;question&#x27;,\n",
       "                                                 Pipeline(steps=[(&#x27;selector&#x27;,\n",
       "                                                                  FunctionTransformer(func=&lt;function column_selector at 0x000001E6CA7581F0&gt;,\n",
       "                                                                                      kw_args={&#x27;column_name&#x27;: &#x27;Q_en&#x27;})),\n",
       "                                                                 (&#x27;vectorizer&#x27;,\n",
       "                                                                  Vectorizer(env=&#x27;saved-dictionary&#x27;,\n",
       "                                                                             model=&#x27;../dictionaries/all-mpnet-base-v2.pkl&#x27;))])),\n",
       "                                                (&#x27;answer&#x27;,\n",
       "                                                 Pipeline(steps=[(&#x27;selector&#x27;,\n",
       "                                                                  FunctionTrans...\n",
       "                                                                             model=&#x27;../dictionaries/all-mpnet-base-v2.pkl&#x27;))]))])),\n",
       "                (&#x27;Classifier&#x27;,\n",
       "                 Classifier(C=1.0, class_weight=None, dual=False,\n",
       "                            fit_intercept=True, intercept_scaling=1,\n",
       "                            l1_ratio=None, max_iter=100,\n",
       "                            model=&#x27;LogisticRegression&#x27;, multi_class=&#x27;auto&#x27;,\n",
       "                            n_jobs=None, penalty=&#x27;l2&#x27;, random_state=None,\n",
       "                            solver=&#x27;lbfgs&#x27;, tol=0.0001, verbose=0,\n",
       "                            warm_start=False)),\n",
       "                (&#x27;Threshold&#x27;, BinaryThresholder())])</pre><b>In a Jupyter environment, please rerun this cell to show the HTML representation or trust the notebook. <br />On GitHub, the HTML representation is unable to render, please try loading this page with nbviewer.org.</b></div><div class=\"sk-container\" hidden><div class=\"sk-item sk-dashed-wrapped\"><div class=\"sk-label-container\"><div class=\"sk-label sk-toggleable\"><input class=\"sk-toggleable__control sk-hidden--visually\" id=\"sk-estimator-id-1\" type=\"checkbox\" ><label for=\"sk-estimator-id-1\" class=\"sk-toggleable__label sk-toggleable__label-arrow\">Pipeline</label><div class=\"sk-toggleable__content\"><pre>Pipeline(steps=[(&#x27;Input&#x27;,\n",
       "                 FeatureUnion(transformer_list=[(&#x27;question&#x27;,\n",
       "                                                 Pipeline(steps=[(&#x27;selector&#x27;,\n",
       "                                                                  FunctionTransformer(func=&lt;function column_selector at 0x000001E6CA7581F0&gt;,\n",
       "                                                                                      kw_args={&#x27;column_name&#x27;: &#x27;Q_en&#x27;})),\n",
       "                                                                 (&#x27;vectorizer&#x27;,\n",
       "                                                                  Vectorizer(env=&#x27;saved-dictionary&#x27;,\n",
       "                                                                             model=&#x27;../dictionaries/all-mpnet-base-v2.pkl&#x27;))])),\n",
       "                                                (&#x27;answer&#x27;,\n",
       "                                                 Pipeline(steps=[(&#x27;selector&#x27;,\n",
       "                                                                  FunctionTrans...\n",
       "                                                                             model=&#x27;../dictionaries/all-mpnet-base-v2.pkl&#x27;))]))])),\n",
       "                (&#x27;Classifier&#x27;,\n",
       "                 Classifier(C=1.0, class_weight=None, dual=False,\n",
       "                            fit_intercept=True, intercept_scaling=1,\n",
       "                            l1_ratio=None, max_iter=100,\n",
       "                            model=&#x27;LogisticRegression&#x27;, multi_class=&#x27;auto&#x27;,\n",
       "                            n_jobs=None, penalty=&#x27;l2&#x27;, random_state=None,\n",
       "                            solver=&#x27;lbfgs&#x27;, tol=0.0001, verbose=0,\n",
       "                            warm_start=False)),\n",
       "                (&#x27;Threshold&#x27;, BinaryThresholder())])</pre></div></div></div><div class=\"sk-serial\"><div class=\"sk-item sk-dashed-wrapped\"><div class=\"sk-label-container\"><div class=\"sk-label sk-toggleable\"><input class=\"sk-toggleable__control sk-hidden--visually\" id=\"sk-estimator-id-2\" type=\"checkbox\" ><label for=\"sk-estimator-id-2\" class=\"sk-toggleable__label sk-toggleable__label-arrow\">Input: FeatureUnion</label><div class=\"sk-toggleable__content\"><pre>FeatureUnion(transformer_list=[(&#x27;question&#x27;,\n",
       "                                Pipeline(steps=[(&#x27;selector&#x27;,\n",
       "                                                 FunctionTransformer(func=&lt;function column_selector at 0x000001E6CA7581F0&gt;,\n",
       "                                                                     kw_args={&#x27;column_name&#x27;: &#x27;Q_en&#x27;})),\n",
       "                                                (&#x27;vectorizer&#x27;,\n",
       "                                                 Vectorizer(env=&#x27;saved-dictionary&#x27;,\n",
       "                                                            model=&#x27;../dictionaries/all-mpnet-base-v2.pkl&#x27;))])),\n",
       "                               (&#x27;answer&#x27;,\n",
       "                                Pipeline(steps=[(&#x27;selector&#x27;,\n",
       "                                                 FunctionTransformer(func=&lt;function column_selector at 0x000001E6CA7581F0&gt;,\n",
       "                                                                     kw_args={&#x27;column_name&#x27;: &#x27;A_en&#x27;})),\n",
       "                                                (&#x27;vectorizer&#x27;,\n",
       "                                                 Vectorizer(env=&#x27;saved-dictionary&#x27;,\n",
       "                                                            model=&#x27;../dictionaries/all-mpnet-base-v2.pkl&#x27;))]))])</pre></div></div></div><div class=\"sk-parallel\"><div class=\"sk-parallel-item\"><div class=\"sk-item\"><div class=\"sk-label-container\"><div class=\"sk-label sk-toggleable\"><label>question</label></div></div><div class=\"sk-serial\"><div class=\"sk-item\"><div class=\"sk-serial\"><div class=\"sk-item\"><div class=\"sk-estimator sk-toggleable\"><input class=\"sk-toggleable__control sk-hidden--visually\" id=\"sk-estimator-id-3\" type=\"checkbox\" ><label for=\"sk-estimator-id-3\" class=\"sk-toggleable__label sk-toggleable__label-arrow\">FunctionTransformer</label><div class=\"sk-toggleable__content\"><pre>FunctionTransformer(func=&lt;function column_selector at 0x000001E6CA7581F0&gt;,\n",
       "                    kw_args={&#x27;column_name&#x27;: &#x27;Q_en&#x27;})</pre></div></div></div><div class=\"sk-item\"><div class=\"sk-estimator sk-toggleable\"><input class=\"sk-toggleable__control sk-hidden--visually\" id=\"sk-estimator-id-4\" type=\"checkbox\" ><label for=\"sk-estimator-id-4\" class=\"sk-toggleable__label sk-toggleable__label-arrow\">Vectorizer</label><div class=\"sk-toggleable__content\"><pre>Vectorizer(env=&#x27;saved-dictionary&#x27;,\n",
       "           model=&#x27;../dictionaries/all-mpnet-base-v2.pkl&#x27;)</pre></div></div></div></div></div></div></div></div><div class=\"sk-parallel-item\"><div class=\"sk-item\"><div class=\"sk-label-container\"><div class=\"sk-label sk-toggleable\"><label>answer</label></div></div><div class=\"sk-serial\"><div class=\"sk-item\"><div class=\"sk-serial\"><div class=\"sk-item\"><div class=\"sk-estimator sk-toggleable\"><input class=\"sk-toggleable__control sk-hidden--visually\" id=\"sk-estimator-id-5\" type=\"checkbox\" ><label for=\"sk-estimator-id-5\" class=\"sk-toggleable__label sk-toggleable__label-arrow\">FunctionTransformer</label><div class=\"sk-toggleable__content\"><pre>FunctionTransformer(func=&lt;function column_selector at 0x000001E6CA7581F0&gt;,\n",
       "                    kw_args={&#x27;column_name&#x27;: &#x27;A_en&#x27;})</pre></div></div></div><div class=\"sk-item\"><div class=\"sk-estimator sk-toggleable\"><input class=\"sk-toggleable__control sk-hidden--visually\" id=\"sk-estimator-id-6\" type=\"checkbox\" ><label for=\"sk-estimator-id-6\" class=\"sk-toggleable__label sk-toggleable__label-arrow\">Vectorizer</label><div class=\"sk-toggleable__content\"><pre>Vectorizer(env=&#x27;saved-dictionary&#x27;,\n",
       "           model=&#x27;../dictionaries/all-mpnet-base-v2.pkl&#x27;)</pre></div></div></div></div></div></div></div></div></div></div><div class=\"sk-item\"><div class=\"sk-estimator sk-toggleable\"><input class=\"sk-toggleable__control sk-hidden--visually\" id=\"sk-estimator-id-7\" type=\"checkbox\" ><label for=\"sk-estimator-id-7\" class=\"sk-toggleable__label sk-toggleable__label-arrow\">Classifier</label><div class=\"sk-toggleable__content\"><pre>Classifier(C=1.0, class_weight=None, dual=False, fit_intercept=True,\n",
       "           intercept_scaling=1, l1_ratio=None, max_iter=100,\n",
       "           model=&#x27;LogisticRegression&#x27;, multi_class=&#x27;auto&#x27;, n_jobs=None,\n",
       "           penalty=&#x27;l2&#x27;, random_state=None, solver=&#x27;lbfgs&#x27;, tol=0.0001,\n",
       "           verbose=0, warm_start=False)</pre></div></div></div><div class=\"sk-item\"><div class=\"sk-estimator sk-toggleable\"><input class=\"sk-toggleable__control sk-hidden--visually\" id=\"sk-estimator-id-8\" type=\"checkbox\" ><label for=\"sk-estimator-id-8\" class=\"sk-toggleable__label sk-toggleable__label-arrow\">BinaryThresholder</label><div class=\"sk-toggleable__content\"><pre>BinaryThresholder()</pre></div></div></div></div></div></div></div>"
      ],
      "text/plain": [
       "Pipeline(steps=[('Input',\n",
       "                 FeatureUnion(transformer_list=[('question',\n",
       "                                                 Pipeline(steps=[('selector',\n",
       "                                                                  FunctionTransformer(func=<function column_selector at 0x000001E6CA7581F0>,\n",
       "                                                                                      kw_args={'column_name': 'Q_en'})),\n",
       "                                                                 ('vectorizer',\n",
       "                                                                  Vectorizer(env='saved-dictionary',\n",
       "                                                                             model='../dictionaries/all-mpnet-base-v2.pkl'))])),\n",
       "                                                ('answer',\n",
       "                                                 Pipeline(steps=[('selector',\n",
       "                                                                  FunctionTrans...\n",
       "                                                                             model='../dictionaries/all-mpnet-base-v2.pkl'))]))])),\n",
       "                ('Classifier',\n",
       "                 Classifier(C=1.0, class_weight=None, dual=False,\n",
       "                            fit_intercept=True, intercept_scaling=1,\n",
       "                            l1_ratio=None, max_iter=100,\n",
       "                            model='LogisticRegression', multi_class='auto',\n",
       "                            n_jobs=None, penalty='l2', random_state=None,\n",
       "                            solver='lbfgs', tol=0.0001, verbose=0,\n",
       "                            warm_start=False)),\n",
       "                ('Threshold', BinaryThresholder())])"
      ]
     },
     "execution_count": 7,
     "metadata": {},
     "output_type": "execute_result"
    }
   ],
   "source": [
    "# Step 1: Initiate the model class\n",
    "iqual_model = iqualnlp.Model()\n",
    "\n",
    "# Step 2: Add layers to the model\n",
    "#  Add text columns, and choose a feature extraction model (Available options: scikit-learn, spacy, sentence-transformers, saved-dictionary (picklized dictionary))\n",
    "iqual_model.add_text_features(question_col,answer_col,model='../dictionaries/all-mpnet-base-v2.pkl',env='saved-dictionary')\n",
    "\n",
    "# Step 3: Add a feature transforming layer (optional)\n",
    "# A. Choose a feature-scaler. Available options: \n",
    "# any scikit-learn scaler from `sklearn.preprocessing`\n",
    "### iqual_model.add_feature_transformer(name='StandardScaler', transformation=\"FeatureScaler\")\n",
    "# OR\n",
    "# B. Choose a dimensionality reduction model. Available options:\n",
    "# - Any scikit-learn dimensionality reduction model from `sklearn.decomposition`\n",
    "# - Uniform Manifold Approximation and Projection (UMAP) using umap.UMAP (https://umap-learn.readthedocs.io/en/latest/)\n",
    "\n",
    "### iqual_model.add_feature_transformer(name='PCA', transformation=\"DimensionalityReduction\")\n",
    "\n",
    "# Step 4: Add a classifier layer\n",
    "# Choose a primary classifier model  (Available options: any scikit-learn classifier)\n",
    "iqual_model.add_classifier(name=\"LogisticRegression\")\n",
    "\n",
    "# Step 5: Add a threshold layer. This is optional, but recommended for binary classification\n",
    "iqual_model.add_threshold()\n",
    "\n",
    "# Step 6: Compile the model\n",
    "iqual_model.compile()"
   ]
  },
  {
   "cell_type": "code",
   "execution_count": 8,
   "id": "e369c4e5",
   "metadata": {},
   "outputs": [],
   "source": [
    "# Scorig Dict for evaluation\n",
    "scoring_dict = evaluation.get_scoring_dict(['f1'])"
   ]
  },
  {
   "cell_type": "markdown",
   "id": "0e7ce910",
   "metadata": {},
   "source": [
    "> ### Configure a Hyperparameter Grid for cross-validation + fitting"
   ]
  },
  {
   "cell_type": "code",
   "execution_count": 9,
   "id": "f1317cc3",
   "metadata": {},
   "outputs": [],
   "source": [
    "model_paths = [os.path.join(dict_dir,model+'.pkl') for model in [*spacy_models,*sentence_transformer_models]]"
   ]
  },
  {
   "cell_type": "code",
   "execution_count": 10,
   "id": "d11e1507",
   "metadata": {},
   "outputs": [],
   "source": [
    "# Saved-dictionary (precomputed vectors using spacy/sentence-transformers)\n",
    "params_saved = {\n",
    "    \"Input\":{\n",
    "        \"question\":{\n",
    "            \"vectorizer\":{\n",
    "                        \"model\":model_paths,\n",
    "                        \"env\":[\"saved-dictionary\"],               \n",
    "                         },\n",
    "        },\n",
    "        \"answer\":{\n",
    "            \"vectorizer\":{\n",
    "                        \"model\":model_paths,\n",
    "                        \"env\":[\"saved-dictionary\"],                \n",
    "                         },                        \n",
    "        },\n",
    "    },\n",
    "        \n",
    "    \"Classifier\":{\n",
    "            \"model\":[\"LogisticRegression\"],\n",
    "            \"C\":[0.01,0.1],\n",
    "        },\n",
    "}\n",
    "\n",
    "# Scikit-learn vectors (TfidfVectorizer/CountVectorizer)\n",
    "\n",
    "params_sklearn = {\n",
    "    \"Input\":{\n",
    "        \"question\":{\n",
    "            \"vectorizer\":{\n",
    "                        \"model\":['TfidfVectorizer','CountVectorizer'],\n",
    "                        \"max_features\":[500,1000,1500,2500,],\n",
    "                        \"env\":[\"scikit-learn\"],               \n",
    "                         },\n",
    "        },\n",
    "        \"answer\":{\n",
    "            \"vectorizer\":{\n",
    "                        \"model\":['TfidfVectorizer','CountVectorizer'],\n",
    "                        \"max_features\":[1500,2500,4000,],\n",
    "                        \"env\":[\"scikit-learn\"],                \n",
    "                         },                        \n",
    "        },\n",
    "    },\n",
    "        \n",
    "    \"Classifier\":{\n",
    "            \"model\":[\"LogisticRegression\"],\n",
    "            \"C\":[0.01,0.1],\n",
    "        },\n",
    "}\n",
    "\n",
    "CV_SEARCH_PARAMS = [\n",
    "    crossval.convert_nested_params(params_saved),\n",
    "    crossval.convert_nested_params(params_sklearn)\n",
    "]"
   ]
  },
  {
   "cell_type": "code",
   "execution_count": 11,
   "id": "3df0f4c2",
   "metadata": {},
   "outputs": [
    {
     "data": {
      "text/plain": [
       "[{'Input__question__vectorizer__model': ['../dictionaries\\\\en_core_web_sm.pkl',\n",
       "   '../dictionaries\\\\en_core_web_md.pkl',\n",
       "   '../dictionaries\\\\en_core_web_lg.pkl',\n",
       "   '../dictionaries\\\\all-mpnet-base-v2.pkl',\n",
       "   '../dictionaries\\\\all-roberta-large-v1.pkl',\n",
       "   '../dictionaries\\\\distiluse-base-multilingual-cased-v2.pkl'],\n",
       "  'Input__question__vectorizer__env': ['saved-dictionary'],\n",
       "  'Input__answer__vectorizer__model': ['../dictionaries\\\\en_core_web_sm.pkl',\n",
       "   '../dictionaries\\\\en_core_web_md.pkl',\n",
       "   '../dictionaries\\\\en_core_web_lg.pkl',\n",
       "   '../dictionaries\\\\all-mpnet-base-v2.pkl',\n",
       "   '../dictionaries\\\\all-roberta-large-v1.pkl',\n",
       "   '../dictionaries\\\\distiluse-base-multilingual-cased-v2.pkl'],\n",
       "  'Input__answer__vectorizer__env': ['saved-dictionary'],\n",
       "  'Classifier__model': ['LogisticRegression'],\n",
       "  'Classifier__C': [0.01, 0.1]},\n",
       " {'Input__question__vectorizer__model': ['TfidfVectorizer', 'CountVectorizer'],\n",
       "  'Input__question__vectorizer__max_features': [500, 1000, 1500, 2500],\n",
       "  'Input__question__vectorizer__env': ['scikit-learn'],\n",
       "  'Input__answer__vectorizer__model': ['TfidfVectorizer', 'CountVectorizer'],\n",
       "  'Input__answer__vectorizer__max_features': [1500, 2500, 4000],\n",
       "  'Input__answer__vectorizer__env': ['scikit-learn'],\n",
       "  'Classifier__model': ['LogisticRegression'],\n",
       "  'Classifier__C': [0.01, 0.1]}]"
      ]
     },
     "execution_count": 11,
     "metadata": {},
     "output_type": "execute_result"
    }
   ],
   "source": [
    "CV_SEARCH_PARAMS"
   ]
  },
  {
   "cell_type": "markdown",
   "id": "5250bd6d",
   "metadata": {},
   "source": [
    "> ## Model training:\n",
    "> Cross-validate over hyperparameters and select the best model"
   ]
  },
  {
   "cell_type": "code",
   "execution_count": 12,
   "id": "fa163fed",
   "metadata": {},
   "outputs": [
    {
     "name": "stdout",
     "output_type": "stream",
     "text": [
      ".......168 hyperparameters configurations possible.....\r"
     ]
    }
   ],
   "source": [
    "cv_dict = iqual_model.cross_validate_fit(\n",
    "    X,y,                                # X: Pandas DataFrame of features, y: Pandas Series of labels\n",
    "    search_parameters=CV_SEARCH_PARAMS, # search_parameters: Dictionary of parameters to use for cross-validation\n",
    "    cv_method='RandomizedSearchCV',     # cv_method: Cross-validation method to use, options: GridSearchCV, RandomizedSearchCV\n",
    "    n_iter=30,\n",
    "    scoring=scoring_dict,               # scoring: Scoring metric to use for cross-validation    \n",
    "    refit='f1',                         # refit: Metric to use for refitting the model\n",
    "    n_jobs=-1,                          # n_jobs: Number of parallel threads to use  \n",
    "    cv_splits=3,                        # cv_splits: Number of cross-validation splits\n",
    ")"
   ]
  },
  {
   "cell_type": "code",
   "execution_count": 13,
   "id": "55dcc273",
   "metadata": {},
   "outputs": [
    {
     "name": "stdout",
     "output_type": "stream",
     "text": [
      "Average F1 score: 0.813\n"
     ]
    }
   ],
   "source": [
    "print(\"Average F1 score: {:.3f}\".format(cv_dict['avg_test_score']))"
   ]
  },
  {
   "cell_type": "markdown",
   "id": "c7575dd4",
   "metadata": {},
   "source": [
    "### Evaluate model using out sample data (Held out human-coded data)"
   ]
  },
  {
   "cell_type": "code",
   "execution_count": 14,
   "id": "6e771963",
   "metadata": {},
   "outputs": [
    {
     "name": "stdout",
     "output_type": "stream",
     "text": [
      "Out-sample F1-score: 0.824\n"
     ]
    }
   ],
   "source": [
    "test_pred = iqual_model.predict(test_df[['Q_en','A_en']])\n",
    "test_act  = test_df[code_variable].tolist()\n",
    "\n",
    "f1_score = evaluation.calc_f1_score_from_labels(test_pred,test_act,)\n",
    "print(f\"Out-sample F1-score: {f1_score:.3f}\")"
   ]
  },
  {
   "cell_type": "markdown",
   "id": "93f3255a",
   "metadata": {},
   "source": [
    "### Predict labels for unannotated data"
   ]
  },
  {
   "cell_type": "code",
   "execution_count": 15,
   "id": "626b81f4",
   "metadata": {},
   "outputs": [],
   "source": [
    "uncoded_df[code_variable+'_pred'] = iqual_model.predict(uncoded_df[['Q_en','A_en']])"
   ]
  },
  {
   "cell_type": "code",
   "execution_count": 16,
   "id": "69e9c428",
   "metadata": {},
   "outputs": [
    {
     "data": {
      "text/plain": [
       "{0: 21515, 1: 988}"
      ]
     },
     "execution_count": 16,
     "metadata": {},
     "output_type": "execute_result"
    }
   ],
   "source": [
    "dict(uncoded_df[code_variable+\"_pred\"].value_counts())"
   ]
  },
  {
   "cell_type": "code",
   "execution_count": 20,
   "id": "b1e02a70",
   "metadata": {},
   "outputs": [
    {
     "name": "stdout",
     "output_type": "stream",
     "text": [
      "Q: What else do you expect from him after becoming a policeman?\n",
      "A: He hopes to marry her after that.\n",
      "\n",
      "Q: Will you marry the girl or get a job?\n",
      "A: If a girl wants to study and get a job, she will get a job, if she wants to get married, she will get married.\n",
      "\n",
      "Q: What dreams do you have about your children?\n",
      "A: I like to make my daughter study more. I want to marry my daughter if she passes her degree and gets a good boy.\n",
      "\n"
     ]
    }
   ],
   "source": [
    "for idx, row in uncoded_df.loc[(uncoded_df[code_variable+\"_pred\"]==1),['Q_en','A_en']].sample(3).iterrows():\n",
    "    print(\"Q: \",row['Q_en'],\"\\n\",\"A: \", row['A_en'],sep='')\n",
    "    print()"
   ]
  }
 ],
 "metadata": {
  "kernelspec": {
   "display_name": "Python 3 (ipykernel)",
   "language": "python",
   "name": "python3"
  },
  "language_info": {
   "codemirror_mode": {
    "name": "ipython",
    "version": 3
   },
   "file_extension": ".py",
   "mimetype": "text/x-python",
   "name": "python",
   "nbconvert_exporter": "python",
   "pygments_lexer": "ipython3",
   "version": "3.8.16"
  },
  "widgets": {
   "application/vnd.jupyter.widget-state+json": {
    "state": {},
    "version_major": 2,
    "version_minor": 0
   }
  }
 },
 "nbformat": 4,
 "nbformat_minor": 5
}
